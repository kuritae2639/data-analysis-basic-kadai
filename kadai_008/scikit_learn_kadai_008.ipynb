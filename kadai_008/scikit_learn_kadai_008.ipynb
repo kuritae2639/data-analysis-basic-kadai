{
  "nbformat": 4,
  "nbformat_minor": 0,
  "metadata": {
    "colab": {
      "provenance": []
    },
    "kernelspec": {
      "name": "python3",
      "display_name": "Python 3"
    },
    "language_info": {
      "name": "python"
    }
  },
  "cells": [
    {
      "cell_type": "code",
      "execution_count": 21,
      "metadata": {
        "colab": {
          "base_uri": "https://localhost:8080/"
        },
        "id": "fTFi-8PYOyA0",
        "outputId": "7b359e2e-cb17-41a3-fb7c-b79244d813d0"
      },
      "outputs": [
        {
          "output_type": "execute_result",
          "data": {
            "text/plain": [
              "0.9629629629629629"
            ]
          },
          "metadata": {},
          "execution_count": 21
        }
      ],
      "source": [
        "# scikit-learnで予測モデルを変更することで評価結果が変わることを確認しよう\n",
        "\n",
        "# サンプルデータの取得～データを見やすくするよ\n",
        "from sklearn.datasets import load_wine\n",
        "dataset = load_wine()\n",
        "import pandas as pd\n",
        "df = pd.DataFrame(data= dataset.data, columns= dataset.feature_names)\n",
        "df['category'] = dataset.target\n",
        "\n",
        "# サンプルデータの分割\n",
        "X = dataset.data\n",
        "y = dataset.target\n",
        "from sklearn.model_selection import train_test_split\n",
        "X_train, X_test, y_train, y_test = train_test_split(X, y, test_size=0.3, random_state= 5)\n",
        "\n",
        "# ↑↑↑ここまでがデータの準備(8章の復習)↑↑↑\n",
        "\n",
        "# 予測モデルのインスタンス化 (ランダムフォレスト)\n",
        "from sklearn.ensemble import RandomForestClassifier\n",
        "model = RandomForestClassifier(random_state=3) # 乱数を固定していいのか？ また3でいいの？\n",
        "\n",
        "# 予測モデルの学習\n",
        "model.fit(X_train, y_train)\n",
        "\n",
        "# 予測モデルの評価\n",
        "y_pred = model.predict(X_test)\n",
        "y_pred\n",
        "\n",
        "from sklearn.metrics import accuracy_score\n",
        "accuracy_score(y_test, y_pred)"
      ]
    }
  ]
}